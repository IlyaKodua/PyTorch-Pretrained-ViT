{
 "cells": [
  {
   "cell_type": "code",
   "execution_count": 1,
   "metadata": {},
   "outputs": [],
   "source": [
    "%load_ext autoreload"
   ]
  },
  {
   "cell_type": "code",
   "execution_count": 2,
   "metadata": {},
   "outputs": [],
   "source": [
    "%autoreload 2"
   ]
  },
  {
   "cell_type": "code",
   "execution_count": 3,
   "metadata": {},
   "outputs": [],
   "source": [
    "from PIL import Image\n",
    "import torch\n",
    "from torchvision import transforms"
   ]
  },
  {
   "cell_type": "code",
   "execution_count": 4,
   "metadata": {},
   "outputs": [
    {
     "data": {
      "text/plain": [
       "torch.Size([1, 3, 384, 384])"
      ]
     },
     "execution_count": 4,
     "metadata": {},
     "output_type": "execute_result"
    }
   ],
   "source": [
    "img = Image.open('../examples/simple/img.jpg')\n",
    "img = transforms.Compose([transforms.Resize((384, 384)), transforms.ToTensor(), transforms.Normalize(0.5, 0.5)])(img).unsqueeze(0)\n",
    "img.shape"
   ]
  },
  {
   "cell_type": "code",
   "execution_count": 5,
   "metadata": {},
   "outputs": [
    {
     "data": {
      "text/plain": [
       "<module 'vit_pytorch' from '/home/luke/projects/experiments/ViT-PyTorch/vit_pytorch/__init__.py'>"
      ]
     },
     "execution_count": 5,
     "metadata": {},
     "output_type": "execute_result"
    }
   ],
   "source": [
    "from importlib import reload\n",
    "import vit_pytorch\n",
    "reload(vit_pytorch)"
   ]
  },
  {
   "cell_type": "code",
   "execution_count": 6,
   "metadata": {},
   "outputs": [],
   "source": [
    "# model = vit_pytorch.ViT(name='B_16', pretrained=False, num_classes=21843)\n",
    "model = vit_pytorch.ViT(name='B_16_imagenet1k', pretrained=False, num_classes=1000)"
   ]
  },
  {
   "cell_type": "code",
   "execution_count": 7,
   "metadata": {},
   "outputs": [],
   "source": [
    "# list(model.state_dict().keys())"
   ]
  },
  {
   "cell_type": "markdown",
   "metadata": {},
   "source": [
    "### Jax"
   ]
  },
  {
   "cell_type": "code",
   "execution_count": 8,
   "metadata": {},
   "outputs": [],
   "source": [
    "import numpy as np"
   ]
  },
  {
   "cell_type": "code",
   "execution_count": 9,
   "metadata": {},
   "outputs": [],
   "source": [
    "# npz = np.load('imagenet21k_ViT-B_16.npz')\n",
    "npz = np.load('ViT-B_16.npz')"
   ]
  },
  {
   "cell_type": "code",
   "execution_count": 10,
   "metadata": {},
   "outputs": [],
   "source": [
    "# npz.files"
   ]
  },
  {
   "cell_type": "code",
   "execution_count": 114,
   "metadata": {},
   "outputs": [],
   "source": [
    "def convert(npz, state_dict):\n",
    "    new_state_dict = {}\n",
    "    pytorch_k2v = {jax_to_pytorch(k): v for k, v in npz.items()}\n",
    "    for pytorch_k, pytorch_v in state_dict.items():\n",
    "        \n",
    "        # Naming\n",
    "        if 'self_attn.out_proj.weight' in pytorch_k:\n",
    "            v = pytorch_k2v[pytorch_k]\n",
    "            v = v.reshape(v.shape[0] * v.shape[1], v.shape[2])\n",
    "        elif 'self_attn.in_proj_' in pytorch_k:\n",
    "            v = np.stack((pytorch_k2v[pytorch_k + '*q'], \n",
    "                          pytorch_k2v[pytorch_k + '*k'], \n",
    "                          pytorch_k2v[pytorch_k + '*v']), axis=0)\n",
    "        else:\n",
    "            if pytorch_k not in pytorch_k2v:\n",
    "                print(pytorch_k, list(pytorch_k2v.keys()))\n",
    "                assert False\n",
    "            v = pytorch_k2v[pytorch_k]\n",
    "        v = torch.from_numpy(v)\n",
    "        \n",
    "        # Sizing\n",
    "        if '.weight' in pytorch_k:\n",
    "            if len(pytorch_v.shape) == 2:\n",
    "                v = v.transpose(0, 1)\n",
    "            if len(pytorch_v.shape) == 4:\n",
    "                v = v.permute(3, 2, 0, 1)\n",
    "        if ('proj.weight' in pytorch_k):\n",
    "            v = v.transpose(0, 1)\n",
    "            v = v.reshape(-1, v.shape[-1]).T\n",
    "        if ('proj.bias' in pytorch_k):\n",
    "            print(pytorch_k, v.shape)\n",
    "        if ('attn.proj_' in pytorch_k and 'weight' in pytorch_k):\n",
    "            v = v.permute(0, 2, 1)\n",
    "            v = v.reshape(-1, v.shape[-1])\n",
    "        if 'attn.proj_' in pytorch_k and 'bias' in pytorch_k:\n",
    "            v = v.reshape(-1)\n",
    "        new_state_dict[pytorch_k] = v\n",
    "    return new_state_dict"
   ]
  },
  {
   "cell_type": "code",
   "execution_count": 115,
   "metadata": {},
   "outputs": [],
   "source": [
    "def jax_to_pytorch(k):\n",
    "    k = k.replace('Transformer/encoder_norm', 'norm')\n",
    "    k = k.replace('LayerNorm_0', 'norm1')\n",
    "    k = k.replace('LayerNorm_2', 'norm2')\n",
    "    k = k.replace('MlpBlock_3/Dense_0', 'pwff.fc1')\n",
    "    k = k.replace('MlpBlock_3/Dense_1', 'pwff.fc2')\n",
    "    k = k.replace('MultiHeadDotProductAttention_1/out', 'proj')\n",
    "    k = k.replace('MultiHeadDotProductAttention_1/query', 'attn.proj_q')\n",
    "    k = k.replace('MultiHeadDotProductAttention_1/key', 'attn.proj_k')\n",
    "    k = k.replace('MultiHeadDotProductAttention_1/value', 'attn.proj_v')\n",
    "    k = k.replace('Transformer/posembed_input', 'positional_embedding')\n",
    "    k = k.replace('encoderblock_', 'blocks.')\n",
    "    k = 'patch_embedding.bias' if k == 'embedding/bias' else k\n",
    "    k = 'patch_embedding.weight' if k == 'embedding/kernel' else k\n",
    "    k = 'class_token' if k == 'cls' else k\n",
    "    k = k.replace('head', 'fc')\n",
    "    k = k.replace('kernel', 'weight')\n",
    "    k = k.replace('scale', 'weight')\n",
    "    k = k.replace('/', '.')\n",
    "    k = k.lower()\n",
    "    return k"
   ]
  },
  {
   "cell_type": "code",
   "execution_count": 116,
   "metadata": {},
   "outputs": [
    {
     "name": "stdout",
     "output_type": "stream",
     "text": [
      "transformer.blocks.0.proj.bias torch.Size([768])\n",
      "transformer.blocks.1.proj.bias torch.Size([768])\n",
      "transformer.blocks.2.proj.bias torch.Size([768])\n",
      "transformer.blocks.3.proj.bias torch.Size([768])\n",
      "transformer.blocks.4.proj.bias torch.Size([768])\n",
      "transformer.blocks.5.proj.bias torch.Size([768])\n",
      "transformer.blocks.6.proj.bias torch.Size([768])\n",
      "transformer.blocks.7.proj.bias torch.Size([768])\n",
      "transformer.blocks.8.proj.bias torch.Size([768])\n",
      "transformer.blocks.9.proj.bias torch.Size([768])\n",
      "transformer.blocks.10.proj.bias torch.Size([768])\n",
      "transformer.blocks.11.proj.bias torch.Size([768])\n"
     ]
    }
   ],
   "source": [
    "new_state_dict = convert(npz, model.state_dict())"
   ]
  },
  {
   "cell_type": "code",
   "execution_count": 117,
   "metadata": {},
   "outputs": [
    {
     "data": {
      "text/plain": [
       "<All keys matched successfully>"
      ]
     },
     "execution_count": 117,
     "metadata": {},
     "output_type": "execute_result"
    }
   ],
   "source": [
    "model.load_state_dict(new_state_dict)"
   ]
  },
  {
   "cell_type": "code",
   "execution_count": 118,
   "metadata": {},
   "outputs": [],
   "source": [
    "import json \n",
    "\n",
    "def check(M):\n",
    "    labels_map = json.load(open('../examples/simple/labels_map.txt'))\n",
    "    labels_map = [labels_map[str(i)] for i in range(1000)]\n",
    "    with torch.no_grad():\n",
    "        outputs = M(img)\n",
    "    print('-----')\n",
    "    for idx in torch.topk(outputs, k=5).indices.squeeze(0).tolist():\n",
    "        prob = torch.softmax(outputs, dim=1)[0, idx].item()\n",
    "        print('{label:<75} ({p:.2f}%)'.format(label=labels_map[idx], p=prob*100))"
   ]
  },
  {
   "cell_type": "code",
   "execution_count": 119,
   "metadata": {},
   "outputs": [
    {
     "name": "stdout",
     "output_type": "stream",
     "text": [
      "-----\n",
      "giant panda, panda, panda bear, coon bear, Ailuropoda melanoleuca           (99.51%)\n",
      "lesser panda, red panda, panda, bear cat, cat bear, Ailurus fulgens         (0.16%)\n",
      "sloth bear, Melursus ursinus, Ursus ursinus                                 (0.05%)\n",
      "American black bear, black bear, Ursus americanus, Euarctos americanus      (0.03%)\n",
      "ice bear, polar bear, Ursus Maritimus, Thalarctos maritimus                 (0.03%)\n"
     ]
    }
   ],
   "source": [
    "import timm\n",
    "m = timm.create_model('vit_base_patch16_384', pretrained=True)\n",
    "m.eval()\n",
    "check(m)"
   ]
  },
  {
   "cell_type": "code",
   "execution_count": 120,
   "metadata": {},
   "outputs": [
    {
     "name": "stdout",
     "output_type": "stream",
     "text": [
      "-----\n",
      "giant panda, panda, panda bear, coon bear, Ailuropoda melanoleuca           (99.51%)\n",
      "lesser panda, red panda, panda, bear cat, cat bear, Ailurus fulgens         (0.16%)\n",
      "sloth bear, Melursus ursinus, Ursus ursinus                                 (0.05%)\n",
      "American black bear, black bear, Ursus americanus, Euarctos americanus      (0.03%)\n",
      "ice bear, polar bear, Ursus Maritimus, Thalarctos maritimus                 (0.03%)\n"
     ]
    }
   ],
   "source": [
    "model.eval()\n",
    "check(model)"
   ]
  },
  {
   "cell_type": "code",
   "execution_count": 121,
   "metadata": {},
   "outputs": [],
   "source": [
    "def printhook(self, input, output):\n",
    "    print('Inside ' + self.__class__.__name__ + ' forward')\n",
    "    print('input: ', type(input))\n",
    "    print('input[0]: ', type(input[0]))\n",
    "    print('input size:', input[0].size())\n",
    "    print('input norm:', input[0].norm())\n",
    "    if isinstance(output, tuple):\n",
    "        output = output[0]\n",
    "    print('output size:', output.data.size())\n",
    "    print('output norm:', output.data.norm())\n",
    "    print('-----------\\n')"
   ]
  },
  {
   "cell_type": "code",
   "execution_count": 122,
   "metadata": {},
   "outputs": [
    {
     "data": {
      "text/plain": [
       "tensor([[-0.0278,  0.0162,  0.0049,  ..., -0.0356,  0.0098, -0.0595],\n",
       "        [-0.0901, -0.0046,  0.0499,  ..., -0.0351, -0.0044,  0.0291],\n",
       "        [ 0.0160, -0.0356, -0.0768,  ...,  0.0045, -0.0360,  0.0005],\n",
       "        ...,\n",
       "        [ 0.0552,  0.0912,  0.0156,  ...,  0.0040,  0.0362,  0.0054],\n",
       "        [-0.0435, -0.1232,  0.0398,  ..., -0.0223, -0.0014,  0.0225],\n",
       "        [ 0.0034,  0.0090, -0.0285,  ...,  0.0361, -0.0960,  0.0245]])"
      ]
     },
     "execution_count": 122,
     "metadata": {},
     "output_type": "execute_result"
    }
   ],
   "source": [
    "m.blocks[0].attn.proj.weight.data # [3,7].item()\n",
    "# m.blocks[0].attn.proj.weight.data - model.transformer.blocks[0].proj.weight.data\n",
    "# torch.all(m.blocks[0].attn.proj.weight.data == model.transformer.blocks[0].proj.weight.data)\n",
    "# m.blocks[0].attn.proj.weight.data.norm(), model.transformer.blocks[0].proj.weight.data.norm()"
   ]
  },
  {
   "cell_type": "code",
   "execution_count": 123,
   "metadata": {},
   "outputs": [
    {
     "data": {
      "text/plain": [
       "tensor([[-0.0278,  0.0162,  0.0049,  ..., -0.0356,  0.0098, -0.0595],\n",
       "        [-0.0901, -0.0046,  0.0499,  ..., -0.0351, -0.0044,  0.0291],\n",
       "        [ 0.0160, -0.0356, -0.0768,  ...,  0.0045, -0.0360,  0.0005],\n",
       "        ...,\n",
       "        [ 0.0552,  0.0912,  0.0156,  ...,  0.0040,  0.0362,  0.0054],\n",
       "        [-0.0435, -0.1232,  0.0398,  ..., -0.0223, -0.0014,  0.0225],\n",
       "        [ 0.0034,  0.0090, -0.0285,  ...,  0.0361, -0.0960,  0.0245]])"
      ]
     },
     "execution_count": 123,
     "metadata": {},
     "output_type": "execute_result"
    }
   ],
   "source": [
    "model.transformer.blocks[0].proj.weight.data"
   ]
  },
  {
   "cell_type": "code",
   "execution_count": 124,
   "metadata": {},
   "outputs": [
    {
     "name": "stdout",
     "output_type": "stream",
     "text": [
      "Inside Linear forward\n",
      "input:  <class 'tuple'>\n",
      "input[0]:  <class 'torch.Tensor'>\n",
      "input size: torch.Size([1, 577, 768])\n",
      "input norm: tensor(192.5844, grad_fn=<NormBackward1>)\n",
      "output size: torch.Size([1, 577, 768])\n",
      "output norm: tensor(284.1073)\n",
      "-----------\n",
      "\n",
      "Inside Linear forward\n",
      "input:  <class 'tuple'>\n",
      "input[0]:  <class 'torch.Tensor'>\n",
      "input size: torch.Size([1, 577, 768])\n",
      "input norm: tensor(192.5844, grad_fn=<NormBackward1>)\n",
      "output size: torch.Size([1, 577, 768])\n",
      "output norm: tensor(284.1073)\n",
      "-----------\n",
      "\n"
     ]
    }
   ],
   "source": [
    "h1 = m.blocks[0].attn.proj.register_forward_hook(printhook)  # m.blocks[0].register_forward_hook(printhook) \n",
    "h2 = model.transformer.blocks[0].proj.register_forward_hook(printhook)  # model.transformer.layers[0].register_forward_hook(printhook) \n",
    "m(img)\n",
    "model(img)\n",
    "h1.remove()\n",
    "h2.remove()"
   ]
  },
  {
   "cell_type": "code",
   "execution_count": null,
   "metadata": {},
   "outputs": [],
   "source": []
  },
  {
   "cell_type": "code",
   "execution_count": null,
   "metadata": {},
   "outputs": [],
   "source": []
  },
  {
   "cell_type": "code",
   "execution_count": null,
   "metadata": {},
   "outputs": [],
   "source": []
  },
  {
   "cell_type": "code",
   "execution_count": null,
   "metadata": {},
   "outputs": [],
   "source": []
  },
  {
   "cell_type": "code",
   "execution_count": 68,
   "metadata": {
    "jupyter": {
     "source_hidden": true
    }
   },
   "outputs": [],
   "source": [
    "# torch.all(model.positional_embedding.pos_embedding.data == m.pos_embed.data)\n",
    "# torch.all(m.patch_embed.proj.weight.data == model.patch_embedding.weight.data)\n",
    "# torch.all(model.class_token == m.cls_token)\n",
    "# torch.all(m.patch_embed.weight.data == model.transformer.layers[3].self_attn.in_proj_weight.data)\n",
    "# torch.all(m.blocks[3].attn.qkv.weight.data == model.transformer.layers[3].self_attn.in_proj_weight.data)\n",
    "# torch.all(m.blocks[11].attn.qkv.bias.data == model.transformer.layers[11].self_attn.in_proj_bias.data)\n",
    "# torch.all(m.blocks[11].attn.proj.weight.data == model.transformer.layers[11].self_attn.out_proj.weight.data)\n",
    "# torch.all(m.blocks[11].attn.qkv.weight.data == model.transformer.layers[11].self_attn.in_proj_weight.data)\n",
    "# torch.all(m.blocks[11].mlp.fc1.weight.data == model.transformer.layers[11].linear1.weight.data)\n",
    "# torch.all(m.blocks[11].norm2.weight.data == model.transformer.layers[11].norm2.weight.data)\n",
    "# torch.all(m.blocks[11].norm1.weight.data == model.transformer.layers[11].norm1.weight.data)\n",
    "# torch.all(m.norm.weight.data == model.norm.weight.data)\n",
    "# torch.all(m.head.weight.data == model.fc.weight.data)"
   ]
  },
  {
   "cell_type": "code",
   "execution_count": null,
   "metadata": {
    "jupyter": {
     "source_hidden": true
    }
   },
   "outputs": [],
   "source": [
    "# def jax_to_pytorch(k):\n",
    "#     k = k.replace('Transformer/encoder_norm', 'norm')\n",
    "#     k = k.replace('LayerNorm_0', 'norm1')\n",
    "#     k = k.replace('LayerNorm_2', 'norm2')\n",
    "#     k = k.replace('MlpBlock_3/Dense_0', 'linear1')\n",
    "#     k = k.replace('MlpBlock_3/Dense_1', 'linear2')\n",
    "#     k = k.replace('MultiHeadDotProductAttention_1/out', 'self_attn.out_proj')\n",
    "#     k = k.replace('MultiHeadDotProductAttention_1/query/kernel', 'self_attn.in_proj_weight*q')\n",
    "#     k = k.replace('MultiHeadDotProductAttention_1/key/kernel', 'self_attn.in_proj_weight*k')\n",
    "#     k = k.replace('MultiHeadDotProductAttention_1/value/kernel', 'self_attn.in_proj_weight*v')\n",
    "#     k = k.replace('MultiHeadDotProductAttention_1/query/bias', 'self_attn.in_proj_bias*q')\n",
    "#     k = k.replace('MultiHeadDotProductAttention_1/key/bias', 'self_attn.in_proj_bias*k')\n",
    "#     k = k.replace('MultiHeadDotProductAttention_1/value/bias', 'self_attn.in_proj_bias*v')\n",
    "#     k = k.replace('Transformer/posembed_input', 'positional_embedding')\n",
    "#     k = k.replace('encoderblock_', 'layers.')\n",
    "#     k = 'patch_embedding.bias' if k == 'embedding/bias' else k\n",
    "#     k = 'patch_embedding.weight' if k == 'embedding/kernel' else k\n",
    "#     k = 'class_token' if k == 'cls' else k\n",
    "#     k = k.replace('head', 'fc')\n",
    "#     k = k.replace('kernel', 'weight')\n",
    "#     k = k.replace('scale', 'weight')\n",
    "#     k = k.replace('/', '.')\n",
    "#     k = k.lower()\n",
    "#     return k"
   ]
  },
  {
   "cell_type": "code",
   "execution_count": null,
   "metadata": {},
   "outputs": [],
   "source": []
  }
 ],
 "metadata": {
  "kernelspec": {
   "display_name": "Python 3",
   "language": "python",
   "name": "python3"
  },
  "language_info": {
   "codemirror_mode": {
    "name": "ipython",
    "version": 3
   },
   "file_extension": ".py",
   "mimetype": "text/x-python",
   "name": "python",
   "nbconvert_exporter": "python",
   "pygments_lexer": "ipython3",
   "version": "3.8.3"
  }
 },
 "nbformat": 4,
 "nbformat_minor": 4
}
